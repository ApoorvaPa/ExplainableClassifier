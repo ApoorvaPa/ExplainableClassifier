{
 "cells": [
  {
   "cell_type": "code",
   "execution_count": null,
   "id": "db10688b",
   "metadata": {},
   "outputs": [],
   "source": [
    "import pandas as pd\n",
    "print(pd.__version__)"
   ]
  },
  {
   "cell_type": "code",
   "execution_count": 2,
   "id": "80441be6",
   "metadata": {},
   "outputs": [
    {
     "name": "stdout",
     "output_type": "stream",
     "text": [
      "Shape of merged data: (590540, 434)\n",
      "   TransactionID  isFraud\n",
      "0        2987000        0\n",
      "1        2987001        0\n",
      "2        2987002        0\n",
      "3        2987003        0\n",
      "4        2987004        0\n"
     ]
    }
   ],
   "source": [
    "import pandas as pd\n",
    "\n",
    "# Load Transaction and Identity data\n",
    "trans = pd.read_csv('./train_transaction.csv')\n",
    "iden = pd.read_csv('./train_identity.csv')\n",
    "\n",
    "# Merge them on TransactionID\n",
    "data = trans.merge(iden, how='left', on='TransactionID')\n",
    "\n",
    "print(f\"Shape of merged data: {data.shape}\")\n",
    "print(data[['TransactionID', 'isFraud']].head())\n"
   ]
  },
  {
   "cell_type": "code",
   "execution_count": null,
   "id": "82fd818b",
   "metadata": {},
   "outputs": [],
   "source": []
  }
 ],
 "metadata": {
  "kernelspec": {
   "display_name": "trisk_rag",
   "language": "python",
   "name": "python3"
  },
  "language_info": {
   "codemirror_mode": {
    "name": "ipython",
    "version": 3
   },
   "file_extension": ".py",
   "mimetype": "text/x-python",
   "name": "python",
   "nbconvert_exporter": "python",
   "pygments_lexer": "ipython3",
   "version": "3.12.4"
  }
 },
 "nbformat": 4,
 "nbformat_minor": 5
}
